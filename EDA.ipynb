{
  "cells": [
    {
      "cell_type": "markdown",
      "metadata": {},
      "source": [
        "### Import dependencies"
      ]
    },
    {
      "cell_type": "code",
      "execution_count": 3,
      "metadata": {
        "id": "paYl1TDp0GPJ",
        "tags": []
      },
      "outputs": [],
      "source": [
        "import pandas as pd\n",
        "from tqdm import tqdm\n",
        "from sklearn.model_selection import GridSearchCV\n",
        "from sklearn.linear_model import LinearRegression\n",
        "from sklearn.ensemble import RandomForestRegressor\n",
        "from category_encoders.target_encoder import TargetEncoder\n",
        "from sklearn.model_selection import train_test_split\n",
        "from sklearn.metrics import mean_squared_error\n",
        "from sklearn.pipeline import make_pipeline\n",
        "from sklearn.ensemble import GradientBoostingRegressor\n",
        "from scipy.stats import shapiro\n",
        "from sklearn.feature_extraction.text import CountVectorizer\n",
        "from sklearn.decomposition import TruncatedSVD\n",
        "import optuna\n",
        "import seaborn as sns\n",
        "import numpy as np\n",
        "import torch"
      ]
    },
    {
      "cell_type": "markdown",
      "metadata": {},
      "source": [
        "Reading ```xlsx``` files into memory"
      ]
    },
    {
      "cell_type": "code",
      "execution_count": 4,
      "metadata": {
        "id": "ll28skNi0GPL",
        "tags": []
      },
      "outputs": [],
      "source": [
        "train = pd.read_excel(\"train.xlsx\")\n",
        "test = pd.read_excel(\"test.xlsx\")"
      ]
    },
    {
      "cell_type": "markdown",
      "metadata": {},
      "source": [
        "Drop unnamed columns just in case"
      ]
    },
    {
      "cell_type": "code",
      "execution_count": 5,
      "metadata": {
        "id": "XQDTUMm-0GPN",
        "tags": []
      },
      "outputs": [],
      "source": [
        "for col in [train, test]:\n",
        "    col.drop(columns=\"Unnamed: 0\")"
      ]
    },
    {
      "cell_type": "markdown",
      "metadata": {
        "id": "T5fJJdD_0GPO",
        "tags": []
      },
      "source": [
        "Getting rid of the columns where 90%+ of values are empty"
      ]
    },
    {
      "cell_type": "code",
      "execution_count": 6,
      "metadata": {
        "id": "_iJOsEqO0GPP",
        "tags": []
      },
      "outputs": [],
      "source": [
        "columns_to_erase = [col for col in train.columns if train[col].isna().mean() > 0.9]\n",
        "for col in [train, test]:\n",
        "    col.drop(columns=columns_to_erase)"
      ]
    },
    {
      "cell_type": "markdown",
      "metadata": {
        "id": "q3HJ9oYv16vN"
      },
      "source": [
        "Workaround to fill tutor_rating & tutor_reviews columns"
      ]
    },
    {
      "cell_type": "code",
      "execution_count": 7,
      "metadata": {
        "id": "S1wG7q9h0GPQ",
        "tags": []
      },
      "outputs": [],
      "source": [
        "dataframes = [train, test]\n",
        "for df in dataframes:\n",
        "    for col in ['tutor_rating', 'tutor_reviews']:\n",
        "        df[col] = df[col].fillna(train[col].median())\n",
        "    df['experience'] = pd.to_numeric(df['experience'].str.split().str[0], errors='coerce')\n",
        "    df['experience'] = df['experience'].fillna(train['experience'].median()).astype(int)\n",
        "\n"
      ]
    },
    {
      "cell_type": "markdown",
      "metadata": {
        "id": "lefaZohx4RJZ"
      },
      "source": [
        "Histograms of ```expirience``` in train & test data \n",
        "\n",
        "\n",
        "\n"
      ]
    },
    {
      "cell_type": "code",
      "execution_count": 8,
      "metadata": {
        "colab": {
          "base_uri": "https://localhost:8080/",
          "height": 469
        },
        "id": "7EaEgIQr4Qf5",
        "outputId": "cc6a527e-ef2a-4f31-af0c-64b647471d62"
      },
      "outputs": [
        {
          "data": {
            "text/plain": [
              "array([[<Axes: title={'center': 'experience'}>]], dtype=object)"
            ]
          },
          "execution_count": 8,
          "metadata": {},
          "output_type": "execute_result"
        },
        {
          "data": {
            "image/png": "[encoded data removed]",
            "text/plain": [
              "<Figure size 640x480 with 1 Axes>"
            ]
          },
          "metadata": {},
          "output_type": "display_data"
        }
      ],
      "source": [
        "train.hist('experience')"
      ]
    },
    {
      "cell_type": "code",
      "execution_count": 9,
      "metadata": {
        "colab": {
          "base_uri": "https://localhost:8080/",
          "height": 469
        },
        "id": "22zaYEP-9FzB",
        "outputId": "13eac215-3286-4eec-db0c-32bc7c13ed5c"
      },
      "outputs": [
        {
          "data": {
            "text/plain": [
              "array([[<Axes: title={'center': 'experience'}>]], dtype=object)"
            ]
          },
          "execution_count": 9,
          "metadata": {},
          "output_type": "execute_result"
        },
        {
          "data": {
            "image/png": "[encoded data removed]",
            "text/plain": [
              "<Figure size 640x480 with 1 Axes>"
            ]
          },
          "metadata": {},
          "output_type": "display_data"
        }
      ],
      "source": [
        "test.hist('experience')"
      ]
    },
    {
      "cell_type": "markdown",
      "metadata": {
        "id": "K2dby_EL9RVJ"
      },
      "source": [
        "The feature is distributed with exponential decay and the distributions on the train and test are similar and the outliers are insignificant"
      ]
    },
    {
      "cell_type": "code",
      "execution_count": 10,
      "metadata": {
        "colab": {
          "base_uri": "https://localhost:8080/",
          "height": 469
        },
        "id": "bLmwA2DR9uzO",
        "outputId": "97987b2f-c1a9-4b61-fdbe-111e2d9e9960"
      },
      "outputs": [
        {
          "data": {
            "text/plain": [
              "array([[<Axes: title={'center': 'tutor_reviews'}>]], dtype=object)"
            ]
          },
          "execution_count": 10,
          "metadata": {},
          "output_type": "execute_result"
        },
        {
          "data": {
            "image/png": "[encoded data removed]",
            "text/plain": [
              "<Figure size 640x480 with 1 Axes>"
            ]
          },
          "metadata": {},
          "output_type": "display_data"
        }
      ],
      "source": [
        "train.hist('tutor_reviews')"
      ]
    },
    {
      "cell_type": "code",
      "execution_count": 11,
      "metadata": {
        "colab": {
          "base_uri": "https://localhost:8080/",
          "height": 469
        },
        "id": "qFwn5XcG93nh",
        "outputId": "b78cbd95-b9c8-4751-c8f3-f3563c9d49c7"
      },
      "outputs": [
        {
          "data": {
            "text/plain": [
              "array([[<Axes: title={'center': 'tutor_reviews'}>]], dtype=object)"
            ]
          },
          "execution_count": 11,
          "metadata": {},
          "output_type": "execute_result"
        },
        {
          "data": {
            "image/png": "[encoded data removed]",
            "text/plain": [
              "<Figure size 640x480 with 1 Axes>"
            ]
          },
          "metadata": {},
          "output_type": "display_data"
        }
      ],
      "source": [
        "test.hist('tutor_reviews')"
      ]
    },
    {
      "cell_type": "markdown",
      "metadata": {
        "id": "Bh2d0Vk09-Hk"
      },
      "source": [
        "There's a long tail in the distribution of this feature. ```Train``` and ```test``` data distributions are almost identical"
      ]
    },
    {
      "cell_type": "code",
      "execution_count": 12,
      "metadata": {
        "colab": {
          "base_uri": "https://localhost:8080/",
          "height": 469
        },
        "id": "82jO7_wK982m",
        "outputId": "e3b23b9a-c83f-45cf-d202-7b6fae080074"
      },
      "outputs": [
        {
          "data": {
            "text/plain": [
              "array([[<Axes: title={'center': 'tutor_rating'}>]], dtype=object)"
            ]
          },
          "execution_count": 12,
          "metadata": {},
          "output_type": "execute_result"
        },
        {
          "data": {
            "image/png": "[encoded data removed]",
            "text/plain": [
              "<Figure size 640x480 with 1 Axes>"
            ]
          },
          "metadata": {},
          "output_type": "display_data"
        }
      ],
      "source": [
        "train.hist('tutor_rating')"
      ]
    },
    {
      "cell_type": "code",
      "execution_count": 13,
      "metadata": {
        "colab": {
          "base_uri": "https://localhost:8080/",
          "height": 469
        },
        "id": "sHuNZj6n-U8r",
        "outputId": "dbf2031a-9b45-4d1e-d8b8-ce1063a6dd4d"
      },
      "outputs": [
        {
          "data": {
            "text/plain": [
              "array([[<Axes: title={'center': 'tutor_rating'}>]], dtype=object)"
            ]
          },
          "execution_count": 13,
          "metadata": {},
          "output_type": "execute_result"
        },
        {
          "data": {
            "image/png": "[encoded data removed]",
            "text/plain": [
              "<Figure size 640x480 with 1 Axes>"
            ]
          },
          "metadata": {},
          "output_type": "display_data"
        }
      ],
      "source": [
        "test.hist('tutor_rating')"
      ]
    },
    {
      "cell_type": "markdown",
      "metadata": {
        "id": "NQMLy8wg-2NQ"
      },
      "source": [
        "Similar site as the previous one"
      ]
    },
    {
      "cell_type": "markdown",
      "metadata": {
        "id": "ecBgPir70GPR",
        "tags": []
      },
      "source": [
        "Now, let’s take all the text information from our data, including columns such as descriptions, titles, and tags, and process it through Bag of Words (BOW) and TruncatedSVD to extract meaningful features. In addition to the features generated by these techniques, we can also add more features such as the lengths of these texts to capture additional information about the data"
      ]
    },
    {
      "cell_type": "code",
      "execution_count": 14,
      "metadata": {
        "id": "Ly2tnqrB0GPS",
        "tags": []
      },
      "outputs": [],
      "source": [
        "from sklearn.feature_extraction.text import TfidfVectorizer\n",
        "from sklearn.decomposition import PCA\n",
        "\n",
        "text_cols = ['tutor_head_tags', 'description', 'experience_desc', 'Education_1', 'Desc_Education_1', 'Education_2', 'Desc_Education_2', 'status', 'categories']\n",
        "\n",
        "for df in [train, test]:\n",
        "    # Fill missing values with a placeholder string\n",
        "    df[text_cols] = df[text_cols].fillna('Пусто')\n",
        "    \n",
        "    # Calculate the length of text in each column\n",
        "    for col in text_cols:\n",
        "        df[f'{col}_len'] = df[col].str.len()\n",
        "    \n",
        "    # Concatenate the text from all columns into a single column\n",
        "    df['all_text'] = df[text_cols].apply(lambda x: ' '.join(x), axis=1)\n",
        "\n",
        "# Create a TfidfVectorizer and fit it on the training data\n",
        "vectorizer = TfidfVectorizer()\n",
        "vectorizer.fit(train['all_text'])\n",
        "\n",
        "# Transform the text in both DataFrames\n",
        "train_vectors = vectorizer.transform(train['all_text'])\n",
        "test_vectors = vectorizer.transform(test['all_text'])\n",
        "\n",
        "# Create a PCA object and fit it on the training data\n",
        "pca = PCA(n_components=25)\n",
        "pca.fit(train_vectors.toarray())\n",
        "\n",
        "# Apply dimensionality reduction to both DataFrames\n",
        "train_reduced = pca.transform(train_vectors.toarray())\n",
        "test_reduced = pca.transform(test_vectors.toarray())\n",
        "\n",
        "# Add the reduced vectors as new columns in the DataFrames\n",
        "for i in range(train_reduced.shape[1]):\n",
        "    train[f'v_{i}'] = train_reduced[:, i]\n",
        "    test[f'v_{i}'] = test_reduced[:, i]\n",
        "\n"
      ]
    },
    {
      "cell_type": "markdown",
      "metadata": {
        "id": "V5KZiOm10GPX",
        "tags": []
      },
      "source": [
        "Let’s test the hypothesis that the distribution of the mean_price column is normal using Shapiro-Wilk test. It is a statistical test used to determine if a sample of data comes from a normally distributed population."
      ]
    },
    {
      "cell_type": "code",
      "execution_count": 15,
      "metadata": {
        "colab": {
          "base_uri": "https://localhost:8080/"
        },
        "id": "yVRR8SvQ0GPY",
        "outputId": "1b936e04-99c4-4b98-ff1a-39abe6532510",
        "tags": []
      },
      "outputs": [
        {
          "data": {
            "text/plain": [
              "ShapiroResult(statistic=0.9175645709037781, pvalue=2.1019476964872256e-44)"
            ]
          },
          "execution_count": 15,
          "metadata": {},
          "output_type": "execute_result"
        }
      ],
      "source": [
        "shapiro(train['mean_price'])"
      ]
    },
    {
      "cell_type": "markdown",
      "metadata": {
        "id": "lu5ogg6m0GPY",
        "tags": []
      },
      "source": [
        "Shapiro value is small enough so hypothesis is incorrect"
      ]
    },
    {
      "cell_type": "markdown",
      "metadata": {},
      "source": [
        "Second hypothesis - teachers with better ratings get better price rate"
      ]
    },
    {
      "cell_type": "code",
      "execution_count": 16,
      "metadata": {},
      "outputs": [
        {
          "data": {
            "text/plain": [
              "0.11329923669674874"
            ]
          },
          "execution_count": 16,
          "metadata": {},
          "output_type": "execute_result"
        }
      ],
      "source": [
        "train['tutor_rating'].corr(train['mean_price'])"
      ]
    },
    {
      "cell_type": "markdown",
      "metadata": {},
      "source": [
        "Correlation value is very close to 0 so there's almost no linear dependence"
      ]
    },
    {
      "cell_type": "markdown",
      "metadata": {
        "id": "yeItHr4E0GPZ"
      },
      "source": [
        "Now, let's test the third hypothesis, teachers with more experience have a higher price per minute"
      ]
    },
    {
      "cell_type": "code",
      "execution_count": 17,
      "metadata": {
        "colab": {
          "base_uri": "https://localhost:8080/"
        },
        "id": "_k-5ZBy_DrQR",
        "outputId": "f7a0da3a-57c0-4f7b-a0a5-dbbed73db89f"
      },
      "outputs": [
        {
          "data": {
            "text/plain": [
              "0.13358053504701928"
            ]
          },
          "execution_count": 17,
          "metadata": {},
          "output_type": "execute_result"
        }
      ],
      "source": [
        "train['experience'].corr(train['mean_price'])"
      ]
    },
    {
      "cell_type": "markdown",
      "metadata": {
        "id": "qMJSEZftE0EF"
      },
      "source": [
        "Correlation value is very close to 0 so there's almost no linear dependence"
      ]
    },
    {
      "cell_type": "markdown",
      "metadata": {},
      "source": [
        "Now let's check if teachers with higher amount of tutor_reviews per year ```(tutor_reviews/experience)``` get better price per minute "
      ]
    },
    {
      "cell_type": "code",
      "execution_count": 23,
      "metadata": {},
      "outputs": [
        {
          "name": "stdout",
          "output_type": "stream",
          "text": [
            "Correlation between reviews/experience ratio and mean price: 0.0965310146495654\n"
          ]
        }
      ],
      "source": [
        "train['reviews_experience_ratio'] = train['tutor_reviews'] / train['experience']\n",
        "\n",
        "# Calculate the correlation between the ratio and mean_price\n",
        "correlation = train['reviews_experience_ratio'].corr(train['mean_price'])\n",
        "\n",
        "print(f'Correlation between reviews/experience ratio and mean price: {correlation}')"
      ]
    },
    {
      "cell_type": "markdown",
      "metadata": {},
      "source": [
        "Again, correlation value is very close to 0 so there's almost no linear dependence"
      ]
    },
    {
      "cell_type": "markdown",
      "metadata": {},
      "source": [
        "Now, save the files to use them in TRAIN file"
      ]
    },
    {
      "cell_type": "code",
      "execution_count": 24,
      "metadata": {},
      "outputs": [],
      "source": [
        "train.to_csv('train.csv', index=None)\n",
        "test.to_csv('test.csv', index=None)"
      ]
    }
  ],
  "metadata": {
    "colab": {
      "provenance": []
    },
    "kernelspec": {
      "display_name": "Python 3 (ipykernel)",
      "language": "python",
      "name": "python3"
    },
    "language_info": {
      "codemirror_mode": {
        "name": "ipython",
        "version": 3
      },
      "file_extension": ".py",
      "mimetype": "text/x-python",
      "name": "python",
      "nbconvert_exporter": "python",
      "pygments_lexer": "ipython3",
      "version": "3.11.4"
    },
    "vscode": {
      "interpreter": {
        "hash": "31f2aee4e71d21fbe5cf8b01ff0e069b9275f58929596ceb00d14d90e3e16cd6"
      }
    }
  },
  "nbformat": 4,
  "nbformat_minor": 0
}
